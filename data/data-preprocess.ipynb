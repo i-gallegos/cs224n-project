{
 "cells": [
  {
   "cell_type": "code",
   "execution_count": null,
   "metadata": {},
   "outputs": [],
   "source": [
    "nltk.download('stopwords')\n",
    "nltk.download('wordnet')"
   ]
  },
  {
   "cell_type": "code",
   "execution_count": 5,
   "metadata": {},
   "outputs": [],
   "source": [
    "import json\n",
    "import jsonlines\n",
    "import pandas as pd #necessary to read .csv files\n",
    "from sklearn.model_selection import train_test_split\n",
    "\n",
    "import torch\n",
    "import torchvision\n",
    "import math\n",
    "import numpy as np\n",
    "from torch.utils.data import Dataset, DataLoader\n",
    "\n",
    "#text-preprocessing\n",
    "import re\n",
    "from nltk.corpus import stopwords\n",
    "stop_words = set(stopwords.words('english'))\n",
    "from nltk.tokenize import word_tokenize\n",
    "from nltk.stem import WordNetLemmatizer\n",
    " \n",
    "lemmatizer = WordNetLemmatizer()"
   ]
  },
  {
   "cell_type": "code",
   "execution_count": 6,
   "metadata": {},
   "outputs": [],
   "source": [
    "#Load all of our data\n",
    "#tldr_data and tosdr_data are dicts\n",
    "\n",
    "tldr_data_file = open('./tldrlegal.json',)\n",
    "tldr_data = json.load(tldr_data_file)\n",
    "\n",
    "tosdr_data_file = open('./tosdr.json',)\n",
    "tosdr_data = json.load(tosdr_data_file)\n",
    "\n",
    "privacy_data = pd.read_csv('./privacy_policies_raw.csv')\n",
    "privacy_data.head(10)\n",
    "\n",
    "billsum_path = \"C:\\\\Users/Barry Cheung/Desktop/CS224N/billsum_v3\"\n",
    "\n",
    "billsum_train_path = billsum_path + \"/us_train_data_final_OFFICIAL.jsonl\"\n",
    "billsum_train_file = open(billsum_path+\"/us_train_data_final_OFFICIAL.jsonl\")\n",
    "billsum_train_file = jsonlines.open(billsum_train_path)\n",
    "\n",
    "billsum_us_test_path = billsum_path + \"/us_test_data_final_OFFICIAL.jsonl\"\n",
    "billsum_ca_test_path = billsum_path + \"/ca_test_data_final_OFFICIAL.jsonl\"\n",
    "billsum_us_test_file = jsonlines.open(billsum_us_test_path)\n",
    "billsum_ca_test_file = jsonlines.open(billsum_ca_test_path)\n",
    "\n"
   ]
  },
  {
   "cell_type": "code",
   "execution_count": 8,
   "metadata": {},
   "outputs": [],
   "source": [
    "def get_billsum_sum(billsum_file):\n",
    "    data = pd.DataFrame(columns=['original_text', 'reference_summary'])\n",
    "    for i, item in enumerate(billsum_file.iter()):\n",
    "        current_item = item\n",
    "        original_text_preprocess = preprocess(current_item['text'])\n",
    "        reference_summary_preprocess = preprocess(current_item['summary'])\n",
    "        data = data.append({'original_text':original_text_preprocess,\n",
    "                            'reference_summary':reference_summary_preprocess}, ignore_index=True)\n",
    "    return data"
   ]
  },
  {
   "cell_type": "code",
   "execution_count": 5,
   "metadata": {},
   "outputs": [],
   "source": [
    "#punctuation_str = \"\\'!\\\"#$%&'()*+,-./:;<=>?@[\\]^_`{|}~\\'\"\n",
    "#print(\"corpora :\", lemmatizer.lemmatize(\"liked\"))\n",
    "def remove_punctuation(input_string):\n",
    "    res = re.sub(r'[^\\w\\s]', '', input_string)\n",
    "    return res\n",
    "\n",
    "#print(remove_punctuation(\"DAS: ABSCHELUCH!&*@# RITTER!!!!????,.\"))\n",
    "\n",
    "def make_lowercase(input_string):\n",
    "    return input_string.lower()\n",
    "\n",
    "def remove_stopwords(input_string):\n",
    "    tokens = word_tokenize(input_string)\n",
    "    output_string = [w for w in tokens if not w in stop_words]\n",
    "    return output_string\n",
    "\n",
    "def lemmatization(input_list):\n",
    "    output_string = \"\"\n",
    "    #temp = input_string.split()\n",
    "    for word in input_list:\n",
    "        #print(word)\n",
    "        lemmatized = lemmatizer.lemmatize(word)\n",
    "        output_string += lemmatized + \" \"\n",
    "    return output_string\n",
    "\n",
    "\n",
    "def preprocess(input_string):\n",
    "#     output = remove_punctuation(input_string)\n",
    "    output = input_string\n",
    "    output = make_lowercase(output)\n",
    "    output = remove_stopwords(output)\n",
    "    output = lemmatization(output)\n",
    "    return output\n",
    "\n",
    "def get_summary_from_json(json_file):\n",
    "    data = pd.DataFrame(columns=['original_text', 'reference_summary'])\n",
    "    #iterate through the text of the json files\n",
    "    for i, item in enumerate(json_file):\n",
    "        current_item = json_file[item]\n",
    "        original_text_preprocess = preprocess(current_item['original_text'])\n",
    "        reference_summary_preprocess = preprocess(current_item['reference_summary'])\n",
    "        data = data.append({'original_text':original_text_preprocess,\n",
    "                            'reference_summary':reference_summary_preprocess}, ignore_index=True)\n",
    "    return data"
   ]
  },
  {
   "cell_type": "code",
   "execution_count": 6,
   "metadata": {},
   "outputs": [],
   "source": [
    "get_summary_from_json(tldr_data).to_csv('./tldr/tldr.csv', index=False)\n",
    "get_summary_from_json(tosdr_data).to_csv('./tosdr/tosdr.csv', index=False)"
   ]
  },
  {
   "cell_type": "code",
   "execution_count": null,
   "metadata": {},
   "outputs": [],
   "source": [
    "get_billsum_sum(billsum_train_file).to_csv('us_billsum_train.csv', index=False)\n",
    "get_billsum_sum(billsum_us_test_file).to_csv('ca_billsum_test.csv', index=False)\n",
    "get_billsum_sum(billsum_ca_test_file).to_csv('us_billsum_test.csv', index=False)"
   ]
  },
  {
   "cell_type": "code",
   "execution_count": 7,
   "metadata": {},
   "outputs": [],
   "source": [
    "# Test train split\n",
    "tldr_df = pd.read_csv('./tldr/tldr.csv',)\n",
    "tldr_train, tldr_test = train_test_split(tldr_df, test_size=0.2)\n",
    "tldr_train, tldr_dev = train_test_split(tldr_train, test_size=0.2)\n",
    "\n",
    "tldr_train.to_csv('./tldr/tldr_train.csv', index=False)\n",
    "tldr_dev.to_csv('./tldr/tldr_dev.csv', index=False)\n",
    "tldr_test.to_csv('./tldr/tldr_test.csv', index=False)\n",
    "\n",
    "tosdr_df = pd.read_csv('./tosdr/tosdr.csv')\n",
    "tosdr_train, tosdr_test = train_test_split(tosdr_df, test_size = 0.2)\n",
    "tosdr_train, tosdr_dev = train_test_split(tosdr_train, test_size=0.2)\n",
    "\n",
    "tosdr_train.to_csv('./tosdr/tosdr_train.csv', index=False)\n",
    "tosdr_dev.to_csv('./tosdr/tosdr_dev.csv', index=False)\n",
    "tosdr_test.to_csv('./tosdr/tosdr_test.csv', index=False)\n",
    "\n",
    "us_billsum_train_df = pd.read_csv(\"./us_billsum_train.csv\")\n",
    "us_billsum_train, us_billsum_dev = train_test_split(us_billsum_train_df, test_size=0.2)\n",
    "us_billsum_train.to_csv('./us_billsum_train_split.csv')\n",
    "us_billsum_dev.to_csv('./us_billsum_train_dev.csv')\n",
    "\n"
   ]
  },
  {
   "cell_type": "code",
   "execution_count": 12,
   "metadata": {},
   "outputs": [
    {
     "name": "stdout",
     "output_type": "stream",
     "text": [
      "['QouteText']\n",
      "['Service']\n",
      "(array(['QouteText'], dtype='<U1450'), array(['Service'], dtype='<U1450'))\n",
      "<__main__.privacyDataset object at 0x000001C8ECC804E0>\n"
     ]
    }
   ],
   "source": [
    "#Make a Dataset, then DataLoader out of the privacy dataset\n",
    "class privacyDataset(Dataset):\n",
    "    def __init__(self):\n",
    "        #data loading\n",
    "        xy = np.loadtxt('./privacy_policies_raw.csv', delimiter = \",\", dtype ='str', usecols=(0, 1), encoding =\"utf8\")\n",
    "        self.x = xy[:, 1:]#torch.from_numpy(xy[:, 1:])#convert to tensor\n",
    "        self.y = xy[:, [0]]#torch.from_numpy(xy[:, [0]])\n",
    "        self.n_samples = xy.shape[0]\n",
    "    def __getitem__(self, index):\n",
    "        return self.x[index], self.y[index]\n",
    "        #dataset[0]\n",
    "    def __len__(self):\n",
    "        return self.n_samples\n",
    "\n",
    "dataset = privacyDataset()\n",
    "first_data = dataset[0]\n",
    "features, labels = first_data\n",
    "print(features)\n",
    "print(labels)\n",
    "print(first_data)\n",
    "print(dataset)\n",
    "#why does this last 25 minutes\n",
    "# dataloader = DataLoader(dataset=dataset, batch_size=4, shuffle=True, num_workers = 2)\n",
    "# dataiterator = iter(dataloader)\n",
    "\n",
    "# data = dataiter.next()\n",
    "# features, labels = data\n",
    "# print(features, labels)"
   ]
  },
  {
   "cell_type": "code",
   "execution_count": null,
   "metadata": {},
   "outputs": [],
   "source": []
  }
 ],
 "metadata": {
  "interpreter": {
   "hash": "9ddc0aa8ee1b4c2f0cc1c246cd75f3aad5d81a26bba68b2c6f47a07a3b57c34f"
  },
  "kernelspec": {
   "display_name": "Python 3",
   "language": "python",
   "name": "python3"
  },
  "language_info": {
   "codemirror_mode": {
    "name": "ipython",
    "version": 3
   },
   "file_extension": ".py",
   "mimetype": "text/x-python",
   "name": "python",
   "nbconvert_exporter": "python",
   "pygments_lexer": "ipython3",
   "version": "3.8.5"
  }
 },
 "nbformat": 4,
 "nbformat_minor": 2
}
