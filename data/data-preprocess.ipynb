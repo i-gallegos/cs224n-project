{
 "cells": [
  {
   "cell_type": "code",
   "execution_count": 1,
   "metadata": {},
   "outputs": [],
   "source": [
    "import json\n",
    "import pandas as pd #necessary to read .csv files\n",
    "from sklearn.model_selection import train_test_split\n",
    "\n",
    "import torch\n",
    "import torchvision\n",
    "import math\n",
    "import numpy as np\n",
    "from torch.utils.data import Dataset, DataLoader"
   ]
  },
  {
   "cell_type": "code",
   "execution_count": 15,
   "metadata": {},
   "outputs": [
    {
     "data": {
      "text/html": [
       "<div>\n",
       "<style scoped>\n",
       "    .dataframe tbody tr th:only-of-type {\n",
       "        vertical-align: middle;\n",
       "    }\n",
       "\n",
       "    .dataframe tbody tr th {\n",
       "        vertical-align: top;\n",
       "    }\n",
       "\n",
       "    .dataframe thead th {\n",
       "        text-align: right;\n",
       "    }\n",
       "</style>\n",
       "<table border=\"1\" class=\"dataframe\">\n",
       "  <thead>\n",
       "    <tr style=\"text-align: right;\">\n",
       "      <th></th>\n",
       "      <th>Service</th>\n",
       "      <th>QouteText</th>\n",
       "      <th>Point</th>\n",
       "    </tr>\n",
       "  </thead>\n",
       "  <tbody>\n",
       "    <tr>\n",
       "      <th>0</th>\n",
       "      <td>1password</td>\n",
       "      <td>AgileBits, Inc.its subsidiaries, affiliates, a...</td>\n",
       "      <td>bad</td>\n",
       "    </tr>\n",
       "    <tr>\n",
       "      <th>1</th>\n",
       "      <td>1password</td>\n",
       "      <td>Your use of the Service is at your sole risk.T...</td>\n",
       "      <td>bad</td>\n",
       "    </tr>\n",
       "    <tr>\n",
       "      <th>2</th>\n",
       "      <td>500px</td>\n",
       "      <td>Your use of the Service is at your sole risk.T...</td>\n",
       "      <td>neutral</td>\n",
       "    </tr>\n",
       "    <tr>\n",
       "      <th>3</th>\n",
       "      <td>500px</td>\n",
       "      <td>ermination500px may terminate or suspend any a...</td>\n",
       "      <td>bad</td>\n",
       "    </tr>\n",
       "    <tr>\n",
       "      <th>4</th>\n",
       "      <td>500px</td>\n",
       "      <td>As a condition to using Services, you are requ...</td>\n",
       "      <td>neutral</td>\n",
       "    </tr>\n",
       "    <tr>\n",
       "      <th>5</th>\n",
       "      <td>500px</td>\n",
       "      <td>500px reserves the right, at its sole discreti...</td>\n",
       "      <td>bad</td>\n",
       "    </tr>\n",
       "    <tr>\n",
       "      <th>6</th>\n",
       "      <td>500px</td>\n",
       "      <td>YOU AND 500PX AGREE THAT ANY PROCEEDINGS TO RE...</td>\n",
       "      <td>bad</td>\n",
       "    </tr>\n",
       "    <tr>\n",
       "      <th>7</th>\n",
       "      <td>500px</td>\n",
       "      <td>By posting Visual Content to the Site, you gra...</td>\n",
       "      <td>bad</td>\n",
       "    </tr>\n",
       "    <tr>\n",
       "      <th>8</th>\n",
       "      <td>academia-edu</td>\n",
       "      <td>It also enables us to serve you advertising an...</td>\n",
       "      <td>bad</td>\n",
       "    </tr>\n",
       "    <tr>\n",
       "      <th>9</th>\n",
       "      <td>airbnb</td>\n",
       "      <td>We may retain some of your personal informatio...</td>\n",
       "      <td>bad</td>\n",
       "    </tr>\n",
       "  </tbody>\n",
       "</table>\n",
       "</div>"
      ],
      "text/plain": [
       "        Service                                          QouteText    Point\n",
       "0     1password  AgileBits, Inc.its subsidiaries, affiliates, a...      bad\n",
       "1     1password  Your use of the Service is at your sole risk.T...      bad\n",
       "2         500px  Your use of the Service is at your sole risk.T...  neutral\n",
       "3         500px  ermination500px may terminate or suspend any a...      bad\n",
       "4         500px  As a condition to using Services, you are requ...  neutral\n",
       "5         500px  500px reserves the right, at its sole discreti...      bad\n",
       "6         500px  YOU AND 500PX AGREE THAT ANY PROCEEDINGS TO RE...      bad\n",
       "7         500px  By posting Visual Content to the Site, you gra...      bad\n",
       "8  academia-edu  It also enables us to serve you advertising an...      bad\n",
       "9        airbnb  We may retain some of your personal informatio...      bad"
      ]
     },
     "execution_count": 15,
     "metadata": {},
     "output_type": "execute_result"
    }
   ],
   "source": [
    "#Load all of our data\n",
    "#tldr_data and tosdr_data are dicts\n",
    "\n",
    "tldr_data_file = open('./tldrlegal.json',)\n",
    "tldr_data = json.load(tldr_data_file)\n",
    "\n",
    "tosdr_data_file = open('./tosdr.json',)\n",
    "tosdr_data = json.load(tosdr_data_file)\n",
    "\n",
    "privacy_data = pd.read_csv('./privacy_policies_raw.csv')\n",
    "privacy_data.head(10)\n"
   ]
  },
  {
   "cell_type": "code",
   "execution_count": 9,
   "metadata": {},
   "outputs": [
    {
     "name": "stdout",
     "output_type": "stream",
     "text": [
      "                                       original_text reference_summary\n",
      "0  welcome to the pokémon go video game services ...               hi.\n"
     ]
    }
   ],
   "source": [
    "\n",
    "punctuation_str = \"\\'!\\\"#$%&'()*+,-./:;<=>?@[\\]^_`{|}~\\'\"\n",
    "def remove_punctuation(input_string):\n",
    "    pass\n",
    "\n",
    "def make_lowercase(input_string):\n",
    "    pass\n",
    "\n",
    "def remove_stopwords(input_string):\n",
    "    pass\n",
    "\n",
    "def lemmatization(input_string):\n",
    "    pass\n",
    "\n",
    "def preprocess(input_string):\n",
    "    output = remove_punctuation(input_string)\n",
    "    output = make_lowercase(output)\n",
    "    output = remove_stopwords(output)\n",
    "    output = lemmatization(output)\n",
    "    return preprocess\n",
    "\n",
    "def get_summary_from_json(json_file):\n",
    "    data = pd.DataFrame(columns=['original_text', 'reference_summary'])\n",
    "    #iterate through the text of the json files\n",
    "    for i, item in enumerate(json_file):\n",
    "        # TODO: pre-processing\n",
    "        current_item = tldr_data[item]\n",
    "        original_text = current_item['original_text']\n",
    "        reference_summary = current_item['reference_summary']\n",
    "        data = data.append({'original_text':original_text, 'reference_summary':reference_summary}, ignore_index=True)\n",
    "    return data"
   ]
  },
  {
   "cell_type": "code",
   "execution_count": null,
   "metadata": {},
   "outputs": [],
   "source": [
    "# TODO: test train split\n",
    "\n",
    "# get_summary_from_json(tldr_data).to_csv('tldr.csv', index=False)\n",
    "# get_summary_from_json(tosdr_data).to_csv('tosdr.csv', index=False)"
   ]
  },
  {
   "cell_type": "code",
   "execution_count": 12,
   "metadata": {},
   "outputs": [
    {
     "name": "stdout",
     "output_type": "stream",
     "text": [
      "['QouteText']\n",
      "['Service']\n",
      "(array(['QouteText'], dtype='<U1450'), array(['Service'], dtype='<U1450'))\n",
      "<__main__.privacyDataset object at 0x000001C8ECC804E0>\n"
     ]
    }
   ],
   "source": [
    "#Make a Dataset, then DataLoader out of the privacy dataset\n",
    "class privacyDataset(Dataset):\n",
    "    def __init__(self):\n",
    "        #data loading\n",
    "        xy = np.loadtxt('./privacy_policies_raw.csv', delimiter = \",\", dtype ='str', usecols=(0, 1), encoding =\"utf8\")\n",
    "        self.x = xy[:, 1:]#torch.from_numpy(xy[:, 1:])#convert to tensor\n",
    "        self.y = xy[:, [0]]#torch.from_numpy(xy[:, [0]])\n",
    "        self.n_samples = xy.shape[0]\n",
    "    def __getitem__(self, index):\n",
    "        return self.x[index], self.y[index]\n",
    "        #dataset[0]\n",
    "    def __len__(self):\n",
    "        return self.n_samples\n",
    "\n",
    "dataset = privacyDataset()\n",
    "first_data = dataset[0]\n",
    "features, labels = first_data\n",
    "print(features)\n",
    "print(labels)\n",
    "print(first_data)\n",
    "print(dataset)\n",
    "#why does this last 25 minutes\n",
    "# dataloader = DataLoader(dataset=dataset, batch_size=4, shuffle=True, num_workers = 2)\n",
    "# dataiterator = iter(dataloader)\n",
    "\n",
    "# data = dataiter.next()\n",
    "# features, labels = data\n",
    "# print(features, labels)"
   ]
  },
  {
   "cell_type": "code",
   "execution_count": null,
   "metadata": {},
   "outputs": [],
   "source": []
  }
 ],
 "metadata": {
  "interpreter": {
   "hash": "9ddc0aa8ee1b4c2f0cc1c246cd75f3aad5d81a26bba68b2c6f47a07a3b57c34f"
  },
  "kernelspec": {
   "display_name": "Python 3",
   "language": "python",
   "name": "python3"
  },
  "language_info": {
   "codemirror_mode": {
    "name": "ipython",
    "version": 3
   },
   "file_extension": ".py",
   "mimetype": "text/x-python",
   "name": "python",
   "nbconvert_exporter": "python",
   "pygments_lexer": "ipython3",
   "version": "3.7.1"
  }
 },
 "nbformat": 4,
 "nbformat_minor": 2
}
